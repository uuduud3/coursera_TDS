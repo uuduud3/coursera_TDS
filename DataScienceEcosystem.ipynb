{
 "cells": [
  {
   "cell_type": "markdown",
   "id": "79bb16c9-a150-4ac5-a5e9-9e7e9dc8328f",
   "metadata": {},
   "source": [
    "# Data Science Tools and Ecosystem"
   ]
  },
  {
   "cell_type": "markdown",
   "id": "06668219-9fa5-4090-adcd-756a3dc4950b",
   "metadata": {},
   "source": [
    "In this notebook, Data Science Tools and Ecosystem are summarized."
   ]
  },
  {
   "cell_type": "markdown",
   "id": "0b5e42cc-3c7d-4e00-b735-f31dd3005073",
   "metadata": {},
   "source": [
    "Some of the popular languages that Data Scientists use are:\n",
    "1. Python\n",
    "2. R\n",
    "3. SQL\n",
    "4. Julia"
   ]
  },
  {
   "cell_type": "markdown",
   "id": "c920e0d9-3b9c-42ce-9778-734baddcf8f0",
   "metadata": {},
   "source": [
    "Some of the commonly used libraries used by Data Scientists include:\n",
    "\n",
    "1. NumPy\n",
    "2. Pandas\n",
    "3. SciPy\n",
    "4. Scikit-Learn\n",
    "4. TensorFlow\n",
    "5. MatplotLib"
   ]
  },
  {
   "cell_type": "markdown",
   "id": "a6c3b462-4362-4028-8a2c-4aa3c120b085",
   "metadata": {},
   "source": [
    "| Data Science Tools      |\n",
    "|--------------------------|\n",
    "| Jupyter Notebook         |\n",
    "| RStudio                  |\n",
    "| Apache Zeppelin          |"
   ]
  },
  {
   "cell_type": "markdown",
   "id": "2c99f18a-a289-4c16-b554-311c6ced81e6",
   "metadata": {},
   "source": [
    "### Below are a few examples of evaluating arithmetic expressions in Python."
   ]
  },
  {
   "cell_type": "code",
   "execution_count": 12,
   "id": "c46c60e0-4b15-4d43-882c-275031966b2b",
   "metadata": {},
   "outputs": [
    {
     "data": {
      "text/plain": [
       "17"
      ]
     },
     "execution_count": 12,
     "metadata": {},
     "output_type": "execute_result"
    }
   ],
   "source": [
    "# This a simple arithmetic expression to multiply then add integers\n",
    "(3 * 4) + 5"
   ]
  },
  {
   "cell_type": "code",
   "execution_count": 13,
   "id": "c8408e03-51cb-4efb-93bb-7e0bc6664a24",
   "metadata": {},
   "outputs": [
    {
     "data": {
      "text/plain": [
       "3.3333333333333335"
      ]
     },
     "execution_count": 13,
     "metadata": {},
     "output_type": "execute_result"
    }
   ],
   "source": [
    "# This will convert 200 minutes to hours by diving by 60\n",
    "200 / 60"
   ]
  },
  {
   "cell_type": "markdown",
   "id": "2c573723-4582-4030-91d8-2fbdbbebffbf",
   "metadata": {},
   "source": [
    "**Objectives:**\n",
    "\n",
    "- List popular languages for Data Science.\n",
    "- List popular libraries for Data Science.  \n",
    "- Introduce key tools used by Data Scientists.\n",
    "- Show examples of evaluating arithmetic expressions in Python.\n",
    "- Demonstrate converting units (e.g., minutes to hours)."
   ]
  },
  {
   "cell_type": "markdown",
   "id": "ee9f4038-d1f9-412c-9e06-34d036921ac5",
   "metadata": {},
   "source": [
    "## Author\n",
    "Геннадій Гнатенко"
   ]
  },
  {
   "cell_type": "code",
   "execution_count": null,
   "id": "04f10b98-0a54-47f0-8cb0-d9efbd597098",
   "metadata": {},
   "outputs": [],
   "source": []
  }
 ],
 "metadata": {
  "kernelspec": {
   "display_name": "Python 3 (ipykernel)",
   "language": "python",
   "name": "python3"
  },
  "language_info": {
   "codemirror_mode": {
    "name": "ipython",
    "version": 3
   },
   "file_extension": ".py",
   "mimetype": "text/x-python",
   "name": "python",
   "nbconvert_exporter": "python",
   "pygments_lexer": "ipython3",
   "version": "3.9.6"
  }
 },
 "nbformat": 4,
 "nbformat_minor": 5
}
